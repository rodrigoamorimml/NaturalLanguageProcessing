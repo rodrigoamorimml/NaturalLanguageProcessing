{
 "cells": [
  {
   "cell_type": "markdown",
   "metadata": {},
   "source": [
    "## Bag of Words can be build in three steps:\n",
    "\n",
    "1. Split and cleaning data ( preprocessing data )\n",
    "2. Create the vocab, make a list of words in the document.\n",
    "2. Create a document vector and score the words in this document using a fixed length document representation\n",
    "2. The score can be by:\n",
    "        * Count\n",
    "        * TF-IDF\n",
    "        * Frequency\n",
    "        * binary"
   ]
  },
  {
   "cell_type": "code",
   "execution_count": 1,
   "metadata": {},
   "outputs": [],
   "source": [
    "text = '''It was the best of times,\n",
    "it was the age of wisdom,\n",
    "it's the worst of times,\n",
    "it was a beautiful mess'''"
   ]
  },
  {
   "cell_type": "code",
   "execution_count": 2,
   "metadata": {},
   "outputs": [
    {
     "name": "stdout",
     "output_type": "stream",
     "text": [
      "['It', 'was', 'the', 'best', 'of', 'times,', 'it', 'was', 'the', 'age', 'of', 'wisdom,', \"it's\", 'the', 'worst', 'of', 'times,', 'it', 'was', 'a', 'beautiful', 'mess']\n"
     ]
    }
   ],
   "source": [
    "tokens = text.split()\n",
    "print(tokens)"
   ]
  },
  {
   "cell_type": "code",
   "execution_count": 3,
   "metadata": {},
   "outputs": [
    {
     "name": "stdout",
     "output_type": "stream",
     "text": [
      "{'wisdom,', 'age', 'best', 'it', 'worst', 'mess', 'beautiful', \"it's\", 'was', 'a', 'It', 'of', 'times,', 'the'}\n",
      "14\n"
     ]
    }
   ],
   "source": [
    "from collections import Counter\n",
    "\n",
    "Vocab = Counter()  \n",
    "Vocab.update(tokens) # counter and update the number of words in the vocabulary\n",
    "Vocab = set(Vocab)\n",
    "print(Vocab)\n",
    "print(len(Vocab))"
   ]
  },
  {
   "cell_type": "code",
   "execution_count": 4,
   "metadata": {},
   "outputs": [
    {
     "name": "stderr",
     "output_type": "stream",
     "text": [
      "Using TensorFlow backend.\n"
     ]
    }
   ],
   "source": [
    "from keras.preprocessing.text import Tokenizer\n",
    "\n",
    "tokenizer = Tokenizer()\n",
    "tokenizer.fit_on_texts(Vocab)\n",
    "\n"
   ]
  },
  {
   "cell_type": "code",
   "execution_count": 5,
   "metadata": {},
   "outputs": [
    {
     "name": "stdout",
     "output_type": "stream",
     "text": [
      "mode: count \n",
      "[[0. 1. 0. 0. 0. 0. 0. 0. 0. 1. 0. 0. 0. 1.]]\n",
      "\n",
      "mode: tfidf \n",
      "[[0.         1.73460106 0.         0.         0.         0.\n",
      "  0.         0.         0.         2.07944154 0.         0.\n",
      "  0.         2.07944154]]\n",
      "\n",
      "mode: binary \n",
      "[[0. 1. 0. 0. 0. 0. 0. 0. 0. 1. 0. 0. 0. 1.]]\n",
      "\n",
      "mode: freq \n",
      "[[0.         0.33333333 0.         0.         0.         0.\n",
      "  0.         0.         0.         0.33333333 0.         0.\n",
      "  0.         0.33333333]]\n",
      "\n"
     ]
    }
   ],
   "source": [
    "text1 = ['it was the only thing to do']\n",
    "modes = ['count', 'tfidf', 'binary', 'freq'] # the four score methods used in bag of words\n",
    "\n",
    "for mode in modes:\n",
    "    text_vec = tokenizer.texts_to_matrix(text1, mode = mode)   # create the document vector\n",
    "    print(f'mode: {mode} ')\n",
    "    print(text_vec)\n",
    "    print()\n",
    "    "
   ]
  },
  {
   "cell_type": "code",
   "execution_count": 6,
   "metadata": {},
   "outputs": [
    {
     "name": "stdout",
     "output_type": "stream",
     "text": [
      "{('of', 'worst'), ('wisdom,', 'beautiful'), (\"it's\", 'the'), ('worst', 'times,'), ('times,', 'wisdom,'), (\"it's\", 'times,'), ('it', 'the'), ('age', 'was'), ('times,', 'beautiful'), ('best', 'times,'), ('age', 'a'), ('of', 'a'), ('worst', 'mess'), ('of', 'was'), ('best', 'the'), ('of', 'age'), ('it', 'beautiful'), ('times,', \"it's\"), ('was', 'beautiful'), ('was', 'best'), ('age', 'worst'), ('wisdom,', 'times,'), ('worst', 'beautiful'), ('worst', 'of'), ('the', 'times,'), ('best', 'age'), ('was', \"it's\"), ('the', 'worst'), ('was', 'mess'), ('It', 'times,'), ('it', 'mess'), ('of', 'the'), ('worst', 'it'), ('wisdom,', 'of'), ('times,', 'times,'), ('It', 'wisdom,'), ('of', 'beautiful'), ('wisdom,', 'worst'), ('the', 'wisdom,'), ('best', 'mess'), ('the', 'of'), ('it', 'age'), ('of', 'it'), ('the', 'a'), ('wisdom,', 'mess'), ('it', 'of'), ('best', 'worst'), ('the', 'age'), ('wisdom,', 'a'), ('best', 'of'), ('best', 'was'), ('it', 'worst'), (\"it's\", 'beautiful'), ('best', 'it'), ('of', 'times,'), ('worst', 'a'), ('the', 'best'), ('was', 'it'), ('age', 'mess'), ('it', 'it'), (\"it's\", 'a'), ('times,', 'mess'), ('times,', 'it'), ('it', 'times,'), ('of', 'of'), ('age', \"it's\"), ('It', \"it's\"), ('was', 'times,'), ('times,', 'a'), ('the', 'it'), ('It', 'was'), ('the', 'the'), ('of', \"it's\"), ('age', 'of'), ('It', 'a'), ('wisdom,', 'it'), ('age', 'wisdom,'), ('the', 'beautiful'), ('a', 'mess'), ('It', 'beautiful'), ('of', 'wisdom,'), ('best', 'a'), ('age', 'times,'), ('It', 'of'), ('times,', 'the'), ('was', 'age'), ('It', 'mess'), ('was', 'the'), ('worst', 'was'), ('of', 'mess'), ('best', 'wisdom,'), ('was', 'a'), ('it', 'a'), (\"it's\", 'it'), ('best', 'beautiful'), (\"it's\", 'was'), ('It', 'age'), (\"it's\", 'of'), ('was', 'wisdom,'), ('it', 'wisdom,'), ('wisdom,', 'was'), ('It', 'it'), (\"it's\", 'worst'), ('best', \"it's\"), ('was', 'worst'), ('the', 'was'), ('times,', 'worst'), ('age', 'beautiful'), ('beautiful', 'mess'), ('It', 'best'), ('it', 'was'), ('it', \"it's\"), ('was', 'was'), ('age', 'the'), (\"it's\", 'mess'), ('It', 'worst'), ('age', 'it'), ('the', \"it's\"), ('the', 'mess'), ('a', 'beautiful'), ('times,', 'was'), ('wisdom,', \"it's\"), ('It', 'the'), ('times,', 'age'), ('times,', 'of'), ('was', 'of'), ('wisdom,', 'the')}\n"
     ]
    }
   ],
   "source": [
    "# For using a bag of words if n greater than 1:\n",
    "\n",
    "from itertools import combinations\n",
    "\n",
    "vocab2 = Counter()\n",
    "\n",
    "vocab2.update(Counter(combinations(tokens, 2)))  # 2-gram \n",
    "\n",
    "print(set(vocab2))"
   ]
  },
  {
   "cell_type": "code",
   "execution_count": null,
   "metadata": {},
   "outputs": [],
   "source": []
  }
 ],
 "metadata": {
  "kernelspec": {
   "display_name": "Python 3",
   "language": "python",
   "name": "python3"
  },
  "language_info": {
   "codemirror_mode": {
    "name": "ipython",
    "version": 3
   },
   "file_extension": ".py",
   "mimetype": "text/x-python",
   "name": "python",
   "nbconvert_exporter": "python",
   "pygments_lexer": "ipython3",
   "version": "3.7.6"
  }
 },
 "nbformat": 4,
 "nbformat_minor": 4
}
