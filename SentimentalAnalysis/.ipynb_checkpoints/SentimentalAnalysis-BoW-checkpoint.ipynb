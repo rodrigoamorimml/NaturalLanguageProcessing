{
 "cells": [
  {
   "cell_type": "markdown",
   "metadata": {},
   "source": [
    "## Load the data"
   ]
  },
  {
   "cell_type": "code",
   "execution_count": 1,
   "metadata": {},
   "outputs": [],
   "source": [
    "import json\n",
    "\n",
    "def load_data(path):  # load each comment at once\n",
    "    with open(path, 'r') as f:\n",
    "        text = f.read()\n",
    "    \n",
    "    return text\n"
   ]
  },
  {
   "cell_type": "code",
   "execution_count": 2,
   "metadata": {},
   "outputs": [
    {
     "name": "stdout",
     "output_type": "stream",
     "text": [
      "the happy bastard's quick movie review \n",
      "damn that y2k bug . \n",
      "it's got a head start in this movie starring jamie lee curtis and another baldwin brother ( william this time ) in a story regarding a crew of a tugboat that comes across a deserted russian tech ship that has a strangeness to it when they kick the power back on . \n",
      "little do they know the power within . . . \n",
      "going for the gore and bringing on a few action sequences here and there , virus still feels very empty , like a movie going for all flash and no substance . \n",
      "we don't know why the crew was really out in the middle of nowhere , we don't know the origin of what took over the ship ( just that a big pink flashy thing hit the mir ) , and , of course , we don't know why donald sutherland is stumbling around drunkenly throughout . \n",
      "here , it's just \" hey , let's chase these people around with some robots \" . \n",
      "the acting is below average , even from the likes of curtis . \n",
      "you're more likely to get a kick out of her work in halloween h20 . \n",
      "sutherland is wasted and baldwin , well , he's acting like a baldwin , of course . \n",
      "the real star here are stan winston's robot design , some schnazzy cgi , and the occasional good gore shot , like picking into someone's brain . \n",
      "so , if robots and body parts really turn you on , here's your movie . \n",
      "otherwise , it's pretty much a sunken ship of a movie . \n",
      "\n"
     ]
    }
   ],
   "source": [
    "# Example of the raw data\n",
    "\n",
    "data1 = load_data('txt_sentoken/neg/cv001_19502.txt')\n",
    "print(data1) "
   ]
  },
  {
   "cell_type": "markdown",
   "metadata": {},
   "source": [
    "## Cleaning the data"
   ]
  },
  {
   "cell_type": "code",
   "execution_count": 16,
   "metadata": {},
   "outputs": [],
   "source": [
    "# its alwayls important to preprocess the data before feeding in a neural network, in special text, because usually text is \n",
    "# always messy.\n",
    "\n",
    "import re, string\n",
    "from nltk.corpus import stopwords\n",
    "\n",
    "def cleaning_data(text, Vocab):\n",
    "    \n",
    "    tokens = text.split()  # split the comment into tokens by white space.\n",
    "    \n",
    "    # prepare the regex for char filtering\n",
    "    re_sub = re.compile('[%s]' % re.escape(string.punctuation))\n",
    "    # remove punctuation for each word\n",
    "    tokens = [re_sub.sub('', word) for word in tokens]\n",
    "    \n",
    "    # remove words that aren't alphabetic\n",
    "    tokens = [word for word in tokens if word.isalpha()]\n",
    "    \n",
    "    # remove the so called stop words (e.g. to, they, it, this ...)\n",
    "    stop_words = stopwords.words('english')\n",
    "    tokens = [word for word in tokens if word not in stop_words]\n",
    "    \n",
    "    # remove word there have length less then 2\n",
    "    tokens = [word for word in tokens if len(word) > 1]\n",
    "    \n",
    "\n",
    "    tokens = [word for word in tokens if word in Vocab]\n",
    "    \n",
    "    return ' '.join(tokens) # return to str\n",
    "    \n",
    "    "
   ]
  },
  {
   "cell_type": "code",
   "execution_count": 4,
   "metadata": {},
   "outputs": [],
   "source": [
    "import os\n",
    "\n",
    "def load_directory(directory): \n",
    "    text = []\n",
    "    for texts in os.listdir(directory): # load the files in the directory\n",
    "          if texts.endswith('.txt'):\n",
    "                 text.append(load_data(os.path.join(directory,texts)))\n",
    "\n",
    "\n",
    "    return text\n"
   ]
  },
  {
   "cell_type": "code",
   "execution_count": 6,
   "metadata": {},
   "outputs": [
    {
     "name": "stdout",
     "output_type": "stream",
     "text": [
      "size of the negative comments: 1000\n",
      "size of the positive comments: 1000\n"
     ]
    }
   ],
   "source": [
    "neg = load_directory('txt_sentoken/neg')  # load all neg comments\n",
    "pos = load_directory('txt_sentoken/pos')  # load all pos comments\n",
    "print(f'size of the negative comments: {len(neg)}')\n",
    "print(f'size of the positive comments: {len(pos)}')"
   ]
  },
  {
   "cell_type": "markdown",
   "metadata": {},
   "source": [
    "## Creating a vocabulary"
   ]
  },
  {
   "cell_type": "code",
   "execution_count": 7,
   "metadata": {},
   "outputs": [
    {
     "data": {
      "text/plain": [
       "2000"
      ]
     },
     "execution_count": 7,
     "metadata": {},
     "output_type": "execute_result"
    }
   ],
   "source": [
    "# to create the vocabulary, we need to take all the words in the dataset\n",
    "\n",
    "total_comments = neg + pos\n",
    "len(total_comments)"
   ]
  },
  {
   "cell_type": "code",
   "execution_count": 11,
   "metadata": {},
   "outputs": [
    {
     "name": "stdout",
     "output_type": "stream",
     "text": [
      "Size of the vocabulary: 46557\n"
     ]
    }
   ],
   "source": [
    "from collections import Counter\n",
    "\n",
    "Vocab = Counter()  # start the counter\n",
    "for comment in total_comments:\n",
    "    \n",
    "    # Cleaning the vocab to decrease the sparse matrix\n",
    "    \n",
    "    tokens = comment.split()\n",
    "    re_sub = re.compile('[%s]' % re.escape(string.punctuation))\n",
    "    tokens = [re_sub.sub('', word) for word in tokens]\n",
    "    \n",
    "    tokens = [word for word in tokens if word.isalpha()]\n",
    "    \n",
    "    stop_words = stopwords.words('english')\n",
    "    tokens = [word for word in tokens if word not in stop_words]\n",
    "    \n",
    "    tokens = [word for word in tokens if len(word) > 1]\n",
    "    \n",
    "    Vocab.update(tokens)  # update the vocab with non known words\n",
    "    \n",
    "print(f'Size of the vocabulary: {len(Vocab)}')"
   ]
  },
  {
   "cell_type": "code",
   "execution_count": 9,
   "metadata": {},
   "outputs": [
    {
     "name": "stdout",
     "output_type": "stream",
     "text": [
      "[('film', 8860), ('one', 5521), ('movie', 5440), ('like', 3553), ('even', 2555), ('good', 2320), ('time', 2283), ('story', 2118), ('films', 2102), ('would', 2042), ('much', 2024), ('also', 1965), ('characters', 1947), ('get', 1921), ('character', 1906), ('two', 1825), ('first', 1768), ('see', 1730), ('well', 1694), ('way', 1668), ('make', 1590), ('really', 1563), ('little', 1491), ('life', 1472), ('plot', 1451), ('people', 1420), ('movies', 1416), ('could', 1395), ('bad', 1374), ('scene', 1373), ('never', 1364), ('best', 1301), ('new', 1277), ('many', 1268), ('doesnt', 1267), ('man', 1266), ('scenes', 1265), ('dont', 1210), ('know', 1207), ('hes', 1150), ('great', 1141), ('another', 1111), ('love', 1089), ('action', 1078), ('go', 1075), ('us', 1065), ('director', 1056), ('something', 1048), ('end', 1047), ('still', 1038)]\n"
     ]
    }
   ],
   "source": [
    "print(Vocab.most_common(50))"
   ]
  },
  {
   "cell_type": "code",
   "execution_count": 12,
   "metadata": {},
   "outputs": [
    {
     "name": "stdout",
     "output_type": "stream",
     "text": [
      "Size of the final vocabulary: 20741\n"
     ]
    }
   ],
   "source": [
    "# reducing the vocab to words that appears at least 3 times in the vocab\n",
    "\n",
    "min_occurrence = 3 \n",
    "Vocab = [v for v, i in Vocab.items() if i >= min_occurrence]\n",
    "print(f'Size of the final vocabulary: {len(Vocab)}')"
   ]
  },
  {
   "cell_type": "code",
   "execution_count": 13,
   "metadata": {},
   "outputs": [],
   "source": [
    "\n",
    "def save_file(data, filename):\n",
    "    \n",
    "    save_data = '\\n'.join(data)\n",
    "    file = open(filename, 'w')\n",
    "    file.write(save_data)\n",
    "    file.close()\n",
    "    \n",
    "\n",
    "save_file(Vocab, 'Vocab.txt') # saving the vocab"
   ]
  },
  {
   "cell_type": "markdown",
   "metadata": {},
   "source": [
    "## Cleaning the input data"
   ]
  },
  {
   "cell_type": "code",
   "execution_count": 17,
   "metadata": {},
   "outputs": [
    {
     "name": "stdout",
     "output_type": "stream",
     "text": [
      "1000\n",
      "1000\n",
      "(2000,)\n",
      "(2000,)\n"
     ]
    }
   ],
   "source": [
    "# The same way that the vocabulary was cleaning it has to be done with the input data too\n",
    "\n",
    "import numpy as np\n",
    "\n",
    "def preprocessing_input(pos,neg, Vocab):\n",
    "    \n",
    "    input_pos = []\n",
    "    input_neg = []\n",
    "    for comment in pos:\n",
    "        input_pos.append(cleaning_data(comment, Vocab))\n",
    "\n",
    "    for comment in neg:\n",
    "        input_neg.append(cleaning_data(comment, Vocab))\n",
    "\n",
    "\n",
    "    print(len(input_pos))\n",
    "    print(len(input_neg))\n",
    "\n",
    "    return np.concatenate((input_pos, input_neg))  # return the data concatenate and ready to be use \n",
    "\n",
    "\n",
    "\n",
    "input_data = preprocessing_input(pos, neg, Vocab)  \n",
    "pos_label = np.ones((len(pos))) # create an array of 1's with the len of positive comments\n",
    "neg_label = np.zeros((len(neg))) # create an array of 0's with the len of negative comments\n",
    "\n",
    "label = np.concatenate((pos_label, neg_label), axis = 0 )\n",
    "print(label.shape)\n",
    "print(input_data.shape)"
   ]
  },
  {
   "cell_type": "code",
   "execution_count": 19,
   "metadata": {},
   "outputs": [
    {
     "name": "stdout",
     "output_type": "stream",
     "text": [
      "happy bastards quick movie review damn bug got head start movie starring jamie lee curtis another baldwin brother william time story regarding crew comes across deserted russian tech ship strangeness kick power back little know power within going gore bringing action sequences virus still feels empty like movie going flash substance dont know crew really middle nowhere dont know origin took ship big pink flashy thing hit mir course dont know donald sutherland stumbling around throughout hey lets chase people around robots acting average even likes curtis youre likely get kick work halloween sutherland wasted baldwin well hes acting like baldwin course real star stan robot design cgi occasional good gore shot like picking someones brain robots body parts really turn heres movie otherwise pretty much sunken ship movie\n"
     ]
    }
   ],
   "source": [
    "# example of the same data showed in the second cell, but now, after the preprocessing phase\n",
    "print(input_data[1001])"
   ]
  },
  {
   "cell_type": "markdown",
   "metadata": {},
   "source": [
    "## Tokenizing the vocabulary"
   ]
  },
  {
   "cell_type": "code",
   "execution_count": 21,
   "metadata": {},
   "outputs": [
    {
     "name": "stderr",
     "output_type": "stream",
     "text": [
      "Using TensorFlow backend.\n"
     ]
    }
   ],
   "source": [
    "# to transform the text into number vectors we can use the Tokenizer from keras\n",
    "\n",
    "from keras.preprocessing.text import Tokenizer\n",
    "\n",
    "tokenizer = Tokenizer()\n",
    "tokenizer.fit_on_texts(Vocab)"
   ]
  },
  {
   "cell_type": "code",
   "execution_count": 22,
   "metadata": {},
   "outputs": [
    {
     "data": {
      "text/plain": [
       "(2000, 20742)"
      ]
     },
     "execution_count": 22,
     "metadata": {},
     "output_type": "execute_result"
    }
   ],
   "source": [
    "X = tokenizer.texts_to_matrix(input_data, mode = 'freq') # we fit the tokenizer into our input data\n",
    "X.shape # notice that now we have a matrix NxD , where N its the number of samples and T its the number of word in the vocab"
   ]
  },
  {
   "cell_type": "code",
   "execution_count": 23,
   "metadata": {},
   "outputs": [],
   "source": [
    "# we use train_test_split to shuffle and split the data into training and test set\n",
    "from sklearn.model_selection import train_test_split\n",
    "\n",
    "\n",
    "\n",
    "x_train, x_test, y_train, y_test =  train_test_split(X, label, test_size = 0.2, shuffle = True, random_state = 42)"
   ]
  },
  {
   "cell_type": "code",
   "execution_count": 24,
   "metadata": {},
   "outputs": [
    {
     "name": "stdout",
     "output_type": "stream",
     "text": [
      "(1600, 20742)\n",
      "(1600,)\n",
      "(400, 20742)\n",
      "(400,)\n"
     ]
    }
   ],
   "source": [
    "print(x_train.shape)\n",
    "print(y_train.shape)\n",
    "print(x_test.shape)\n",
    "print(y_test.shape)"
   ]
  },
  {
   "cell_type": "code",
   "execution_count": 25,
   "metadata": {},
   "outputs": [
    {
     "name": "stdout",
     "output_type": "stream",
     "text": [
      "WARNING:tensorflow:From C:\\Users\\rodri\\Anaconda3\\lib\\site-packages\\tensorflow_core\\python\\ops\\resource_variable_ops.py:1630: calling BaseResourceVariable.__init__ (from tensorflow.python.ops.resource_variable_ops) with constraint is deprecated and will be removed in a future version.\n",
      "Instructions for updating:\n",
      "If using Keras pass *_constraint arguments to layers.\n",
      "Model: \"model_1\"\n",
      "_________________________________________________________________\n",
      "Layer (type)                 Output Shape              Param #   \n",
      "=================================================================\n",
      "input_1 (InputLayer)         (None, 20742)             0         \n",
      "_________________________________________________________________\n",
      "dense_1 (Dense)              (None, 50)                1037150   \n",
      "_________________________________________________________________\n",
      "dense_2 (Dense)              (None, 1)                 51        \n",
      "=================================================================\n",
      "Total params: 1,037,201\n",
      "Trainable params: 1,037,201\n",
      "Non-trainable params: 0\n",
      "_________________________________________________________________\n",
      "WARNING:tensorflow:From C:\\Users\\rodri\\Anaconda3\\lib\\site-packages\\tensorflow_core\\python\\ops\\nn_impl.py:183: where (from tensorflow.python.ops.array_ops) is deprecated and will be removed in a future version.\n",
      "Instructions for updating:\n",
      "Use tf.where in 2.0, which has the same broadcast rule as np.where\n"
     ]
    }
   ],
   "source": [
    "# Now we create a Neural Netword to train our model\n",
    "# in this case we'be using a normal neural netword with only 1 hidden layer and 1 output layer\n",
    "\n",
    "from keras.layers import Dense, Input\n",
    "from keras.models import Model\n",
    "\n",
    "\n",
    "i = Input(shape = x_train[0].shape) # the input model size has to be the same size of the number of vocab words\n",
    "x = Dense(50, activation = 'relu')(i)\n",
    "\n",
    "x = Dense(1, activation = 'sigmoid')(x)  # its used sigmoid for binary classification\n",
    "\n",
    "model = Model(i, x)\n",
    "\n",
    "model.summary()\n",
    "\n",
    "model.compile(loss = 'binary_crossentropy',\n",
    "             metrics = ['accuracy'],\n",
    "             optimizer = 'adam')"
   ]
  },
  {
   "cell_type": "code",
   "execution_count": 28,
   "metadata": {},
   "outputs": [
    {
     "name": "stdout",
     "output_type": "stream",
     "text": [
      "Epoch 1/20\n",
      "1600/1600 [==============================] - 2s 1ms/step - loss: 0.1996 - accuracy: 0.9906\n",
      "Epoch 2/20\n",
      "1600/1600 [==============================] - 2s 1ms/step - loss: 0.1849 - accuracy: 0.9912\n",
      "Epoch 3/20\n",
      "1600/1600 [==============================] - 2s 1ms/step - loss: 0.1712 - accuracy: 0.9925\n",
      "Epoch 4/20\n",
      "1600/1600 [==============================] - 2s 1ms/step - loss: 0.1594 - accuracy: 0.9925\n",
      "Epoch 5/20\n",
      "1600/1600 [==============================] - 2s 1ms/step - loss: 0.1474 - accuracy: 0.9931\n",
      "Epoch 6/20\n",
      "1600/1600 [==============================] - 2s 1ms/step - loss: 0.1369 - accuracy: 0.9950\n",
      "Epoch 7/20\n",
      "1600/1600 [==============================] - 2s 1ms/step - loss: 0.1277 - accuracy: 0.9950\n",
      "Epoch 8/20\n",
      "1600/1600 [==============================] - 2s 1ms/step - loss: 0.1183 - accuracy: 0.9950\n",
      "Epoch 9/20\n",
      "1600/1600 [==============================] - 2s 1ms/step - loss: 0.1103 - accuracy: 0.9969\n",
      "Epoch 10/20\n",
      "1600/1600 [==============================] - 2s 1ms/step - loss: 0.1028 - accuracy: 0.9962\n",
      "Epoch 11/20\n",
      "1600/1600 [==============================] - 2s 1ms/step - loss: 0.0960 - accuracy: 0.9969\n",
      "Epoch 12/20\n",
      "1600/1600 [==============================] - 2s 1ms/step - loss: 0.0897 - accuracy: 0.9981\n",
      "Epoch 13/20\n",
      "1600/1600 [==============================] - 2s 1ms/step - loss: 0.0839 - accuracy: 0.9987\n",
      "Epoch 14/20\n",
      "1600/1600 [==============================] - 2s 1ms/step - loss: 0.0784 - accuracy: 0.9987\n",
      "Epoch 15/20\n",
      "1600/1600 [==============================] - 2s 1ms/step - loss: 0.0733 - accuracy: 0.9994\n",
      "Epoch 16/20\n",
      "1600/1600 [==============================] - 2s 1ms/step - loss: 0.0688 - accuracy: 0.9994\n",
      "Epoch 17/20\n",
      "1600/1600 [==============================] - 2s 1ms/step - loss: 0.0646 - accuracy: 0.9994\n",
      "Epoch 18/20\n",
      "1600/1600 [==============================] - 2s 1ms/step - loss: 0.0604 - accuracy: 1.0000\n",
      "Epoch 19/20\n",
      "1600/1600 [==============================] - 2s 1ms/step - loss: 0.0568 - accuracy: 1.0000\n",
      "Epoch 20/20\n",
      "1600/1600 [==============================] - 2s 1ms/step - loss: 0.0534 - accuracy: 1.0000\n"
     ]
    }
   ],
   "source": [
    "r = model.fit(x_train, y_train, epochs = 20)"
   ]
  },
  {
   "cell_type": "code",
   "execution_count": 27,
   "metadata": {
    "scrolled": true
   },
   "outputs": [
    {
     "name": "stdout",
     "output_type": "stream",
     "text": [
      "0.824999988079071\n"
     ]
    }
   ],
   "source": [
    "loss, acc = model.evaluate(x_test, y_test, verbose = 0) # we evaluate the model (average)\n",
    "print(acc)"
   ]
  },
  {
   "cell_type": "code",
   "execution_count": 38,
   "metadata": {
    "scrolled": true
   },
   "outputs": [
    {
     "data": {
      "image/png": "[encoded data removed]",
      "text/plain": [
       "<Figure size 432x288 with 1 Axes>"
      ]
     },
     "metadata": {
      "needs_background": "light"
     },
     "output_type": "display_data"
    }
   ],
   "source": [
    "import matplotlib.pyplot as plt\n",
    "\n",
    "epochs = range(1, len(r.history['loss']) + 1)\n",
    "\n",
    "loss = plt.plot(epochs,  r.history['loss'], 'bo',   label = 'Training loss')\n",
    "plt.legend()\n",
    "plt.title('Training Loss')\n",
    "plt.xlabel('epochs')\n",
    "plt.ylabel('loss value')\n",
    "plt.show()\n"
   ]
  },
  {
   "cell_type": "code",
   "execution_count": 39,
   "metadata": {},
   "outputs": [
    {
     "data": {
      "image/png": "[encoded data removed]",
      "text/plain": [
       "<Figure size 432x288 with 1 Axes>"
      ]
     },
     "metadata": {
      "needs_background": "light"
     },
     "output_type": "display_data"
    }
   ],
   "source": [
    "val = plt.plot(epochs, r.history['accuracy'], label = 'Training Validation')\n",
    "plt.legend()\n",
    "plt.title('Training Validation')\n",
    "plt.xlabel('epochs')\n",
    "plt.ylabel('Validation value')\n",
    "plt.show()\n"
   ]
  },
  {
   "cell_type": "markdown",
   "metadata": {},
   "source": [
    "### Predict new comments"
   ]
  },
  {
   "cell_type": "code",
   "execution_count": 97,
   "metadata": {},
   "outputs": [],
   "source": [
    "def new_predicts(data, Vocab):\n",
    "    \n",
    "    clean_data = cleaning_data(data, Vocab)\n",
    "    encoded_data = tokenizer.texts_to_matrix([clean_data], mode = 'freq')\n",
    "    predict_value = model.predict(encoded_data)\n",
    "    if predict_value <= 0.5:\n",
    "        return f'NEGATIVE COMMENT'\n",
    "    if predict_value > 0.5:\n",
    "        return f'POSITIVE COMMENT'\n",
    "    "
   ]
  },
  {
   "cell_type": "code",
   "execution_count": 41,
   "metadata": {},
   "outputs": [],
   "source": [
    "sample = 'This was a great movie, some parts were good, but others were fantastic.'"
   ]
  },
  {
   "cell_type": "code",
   "execution_count": 42,
   "metadata": {},
   "outputs": [
    {
     "data": {
      "text/plain": [
       "'great movie parts good others fantastic'"
      ]
     },
     "execution_count": 42,
     "metadata": {},
     "output_type": "execute_result"
    }
   ],
   "source": [
    "sample_clean = cleaning_data(sample, Vocab)\n",
    "sample_clean"
   ]
  },
  {
   "cell_type": "code",
   "execution_count": 98,
   "metadata": {},
   "outputs": [
    {
     "data": {
      "text/plain": [
       "'POSITIVE COMMENT'"
      ]
     },
     "execution_count": 98,
     "metadata": {},
     "output_type": "execute_result"
    }
   ],
   "source": [
    "new_predicts(sample, Vocab)"
   ]
  },
  {
   "cell_type": "code",
   "execution_count": 99,
   "metadata": {},
   "outputs": [
    {
     "data": {
      "text/plain": [
       "'NEGATIVE COMMENT'"
      ]
     },
     "execution_count": 99,
     "metadata": {},
     "output_type": "execute_result"
    }
   ],
   "source": [
    "sample2 = 'It was medium film, could be better'\n",
    "new_predicts(sample2, Vocab)"
   ]
  },
  {
   "cell_type": "code",
   "execution_count": 100,
   "metadata": {},
   "outputs": [
    {
     "data": {
      "text/plain": [
       "'NEGATIVE COMMENT'"
      ]
     },
     "execution_count": 100,
     "metadata": {},
     "output_type": "execute_result"
    }
   ],
   "source": [
    "sample3 = 'It was a good film, but i expected more'\n",
    "new_predicts(sample3, Vocab)"
   ]
  },
  {
   "cell_type": "code",
   "execution_count": 101,
   "metadata": {},
   "outputs": [
    {
     "data": {
      "text/plain": [
       "'POSITIVE COMMENT'"
      ]
     },
     "execution_count": 101,
     "metadata": {},
     "output_type": "execute_result"
    }
   ],
   "source": [
    "sample4 = 'It was medium, but the final part was really good.'\n",
    "new_predicts(sample4, Vocab)"
   ]
  },
  {
   "cell_type": "code",
   "execution_count": null,
   "metadata": {},
   "outputs": [],
   "source": []
  }
 ],
 "metadata": {
  "kernelspec": {
   "display_name": "Python 3",
   "language": "python",
   "name": "python3"
  },
  "language_info": {
   "codemirror_mode": {
    "name": "ipython",
    "version": 3
   },
   "file_extension": ".py",
   "mimetype": "text/x-python",
   "name": "python",
   "nbconvert_exporter": "python",
   "pygments_lexer": "ipython3",
   "version": "3.7.6"
  }
 },
 "nbformat": 4,
 "nbformat_minor": 4
}
