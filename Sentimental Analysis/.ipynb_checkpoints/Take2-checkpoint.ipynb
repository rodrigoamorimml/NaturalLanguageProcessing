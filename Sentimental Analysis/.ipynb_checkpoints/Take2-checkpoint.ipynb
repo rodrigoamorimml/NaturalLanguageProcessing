{
 "cells": [
  {
   "cell_type": "markdown",
   "metadata": {},
   "source": [
    "## Load the Data"
   ]
  },
  {
   "cell_type": "code",
   "execution_count": 11,
   "metadata": {},
   "outputs": [],
   "source": [
    "import json\n",
    "import numpy as np\n",
    "\n",
    "path = 'data/sentiment/Books_small_10000.json'\n",
    "text = []\n",
    "\n",
    "with open(path, 'r') as f:\n",
    "    for comment in f:\n",
    "        text.append(json.loads(comment))"
   ]
  },
  {
   "cell_type": "code",
   "execution_count": 12,
   "metadata": {},
   "outputs": [],
   "source": [
    "review = []  \n",
    "label = []\n",
    "\n",
    "for line in text:\n",
    "    \n",
    "    if line['overall'] <= 3:\n",
    "        review.append(line['reviewText'])  # Append the review\n",
    "        label.append(0)  # append the label ~ Negative = 0\n",
    "    else:\n",
    "        review.append(line['reviewText'])\n",
    "        label.append(1)  # append the label ~ Positive = 1\n"
   ]
  },
  {
   "cell_type": "markdown",
   "metadata": {},
   "source": [
    "## Cleaning the Data"
   ]
  },
  {
   "cell_type": "code",
   "execution_count": null,
   "metadata": {},
   "outputs": [],
   "source": [
    "import re, string\n",
    "from nltk.corpus import stopwords\n",
    "\n",
    "def cleaning_data(data):\n",
    "    tokens = []\n",
    "    \n",
    "    for comment in data:\n",
    "        for word in comment.split():\n",
    "            tokens.append(word)\n",
    "    \n",
    "    print(f'length before the preprocessing phase: {len(tokens)}')\n",
    "\n",
    "    re_sub = re.compile('[%s]' % re.escape(string.punctuation))\n",
    "    tokens = [re_sub.sub('', w) for w in tokens]\n",
    "\n",
    "    tokens = [w for w in tokens if w.isalpha()]\n",
    "\n",
    "    stop_words = stopwords.words('english')\n",
    "    tokens = [w for w in tokens if w not in stop_words]\n",
    "\n",
    "    tokens = [w for w in tokens if len(w) > 2]\n",
    "\n",
    "\n",
    "    print(f'length after the preprocessing phase: {len(tokens)}')\n",
    "    \n",
    "    return tokens\n"
   ]
  },
  {
   "cell_type": "code",
   "execution_count": null,
   "metadata": {
    "scrolled": true
   },
   "outputs": [],
   "source": [
    "tokens = process_data(review)"
   ]
  },
  {
   "cell_type": "markdown",
   "metadata": {},
   "source": [
    "## Creating the Vocab"
   ]
  },
  {
   "cell_type": "code",
   "execution_count": null,
   "metadata": {
    "scrolled": true
   },
   "outputs": [],
   "source": [
    "from collections import Counter\n",
    "\n",
    "Vocab = Counter()\n",
    "Vocab.update(tokens)\n",
    "\n",
    "# keep tokens with a minimun occurence\n",
    "n_occurence = 2\n",
    "Vocab = [v for v, i in Vocab.items() if i>= n_occurence]\n",
    "print(f'Vocabulary Size {len(Vocab)}' )"
   ]
  },
  {
   "cell_type": "markdown",
   "metadata": {},
   "source": [
    "### Saving the vocabulary"
   ]
  },
  {
   "cell_type": "code",
   "execution_count": null,
   "metadata": {},
   "outputs": [],
   "source": [
    "def save_file(data, filename):\n",
    "    save_data = '\\n'.join(data)\n",
    "    file = open(filename, 'w')\n",
    "    file.write(save_data)\n",
    "    file.close()\n",
    "    \n",
    "save_file(Vocab, 'Vocab.txt')"
   ]
  },
  {
   "cell_type": "markdown",
   "metadata": {},
   "source": [
    "### Filtering the input_data with known vocab words"
   ]
  },
  {
   "cell_type": "code",
   "execution_count": 45,
   "metadata": {},
   "outputs": [],
   "source": [
    "def filtering_input_data(input_data, Vocab):\n",
    "    \n",
    "    final_data = []\n",
    "    \n",
    "    for comment in input_data:\n",
    "        word_grouped = []\n",
    "\n",
    "        for word in comment.split():\n",
    "            \n",
    "            if word in Vocab:     # Looking if the word in review is in the vocabulary\n",
    "                word_grouped.append(word)\n",
    "\n",
    "            sentence = ' '.join(word_grouped)\n",
    "\n",
    "        final_data.append(sentence)\n",
    "\n",
    "    return final_data"
   ]
  },
  {
   "cell_type": "code",
   "execution_count": null,
   "metadata": {},
   "outputs": [],
   "source": [
    "final_data = filtering_input_data(review, Vocab)\n",
    "# saving the final data\n",
    "save_file(final_data, 'final_data.txt')"
   ]
  },
  {
   "cell_type": "markdown",
   "metadata": {},
   "source": [
    "### Creating the Bag of Words"
   ]
  },
  {
   "cell_type": "code",
   "execution_count": 65,
   "metadata": {},
   "outputs": [],
   "source": [
    "with open('Vocab.txt', 'r') as f:\n",
    "    Vocab = f.read().split('\\n')\n",
    "\n",
    "with open('final_data.txt', 'r') as f:\n",
    "    final_data = f.read().split('\\n')\n",
    "    \n"
   ]
  },
  {
   "cell_type": "code",
   "execution_count": 67,
   "metadata": {},
   "outputs": [],
   "source": [
    "# Now that we create the vocabulary and filter the data, we can create the bag of words\n",
    "from keras.preprocessing.text import Tokenizer\n",
    "\n",
    "Vocab = set(Vocab)\n",
    "\n",
    "\n",
    "tokenizer = Tokenizer()\n",
    "tokenizer.fit_on_texts(Vocab) \n",
    "\n",
    "X = tokenizer.texts_to_matrix(final_data, mode = 'count')"
   ]
  },
  {
   "cell_type": "code",
   "execution_count": 68,
   "metadata": {},
   "outputs": [
    {
     "data": {
      "text/plain": [
       "(10000,)"
      ]
     },
     "execution_count": 68,
     "metadata": {},
     "output_type": "execute_result"
    }
   ],
   "source": [
    "import numpy as np\n",
    "y = np.array(label)\n",
    "y.shape"
   ]
  },
  {
   "cell_type": "code",
   "execution_count": 69,
   "metadata": {},
   "outputs": [],
   "source": [
    "from sklearn.model_selection import train_test_split\n",
    "\n",
    "x_train, x_test, y_train, y_test = train_test_split(X, y, test_size = 0.2, random_state = 42)"
   ]
  },
  {
   "cell_type": "code",
   "execution_count": 70,
   "metadata": {},
   "outputs": [
    {
     "name": "stdout",
     "output_type": "stream",
     "text": [
      "(8000, 18408)\n",
      "(8000,)\n",
      "(2000, 18408)\n",
      "(2000,)\n"
     ]
    }
   ],
   "source": [
    "print(x_train.shape)\n",
    "print(y_train.shape)\n",
    "print(x_test.shape)\n",
    "print(y_test.shape)"
   ]
  },
  {
   "cell_type": "code",
   "execution_count": 71,
   "metadata": {},
   "outputs": [
    {
     "data": {
      "text/plain": [
       "0.8255"
      ]
     },
     "execution_count": 71,
     "metadata": {},
     "output_type": "execute_result"
    }
   ],
   "source": [
    "from sklearn.svm import SVC\n",
    "\n",
    "svc_clf = SVC(kernel = 'linear')\n",
    "svc_clf.fit(x_train, y_train)\n",
    "\n",
    "svc_clf.score(x_test, y_test)\n"
   ]
  },
  {
   "cell_type": "code",
   "execution_count": 29,
   "metadata": {},
   "outputs": [
    {
     "data": {
      "text/plain": [
       "GridSearchCV(cv=6, error_score=nan,\n",
       "             estimator=SVC(C=1.0, break_ties=False, cache_size=200,\n",
       "                           class_weight=None, coef0=0.0,\n",
       "                           decision_function_shape='ovr', degree=3,\n",
       "                           gamma='scale', kernel='rbf', max_iter=-1,\n",
       "                           probability=False, random_state=None, shrinking=True,\n",
       "                           tol=0.001, verbose=False),\n",
       "             iid='deprecated', n_jobs=None,\n",
       "             param_grid={'C': (1, 2, 4, 8, 16, 32),\n",
       "                         'kernel': ('linear', 'rbf')},\n",
       "             pre_dispatch='2*n_jobs', refit=True, return_train_score=False,\n",
       "             scoring=None, verbose=0)"
      ]
     },
     "execution_count": 29,
     "metadata": {},
     "output_type": "execute_result"
    }
   ],
   "source": [
    "from sklearn.model_selection import GridSearchCV\n",
    "\n",
    "parameters = {'C' :  (1, 2 , 4, 8, 16, 32),\n",
    "             'kernel' : ('linear', 'rbf')}\n",
    "\n",
    "clf = GridSearchCV(SVC(), parameters, cv = 6)\n",
    "clf.fit(x_train, y_train)"
   ]
  },
  {
   "cell_type": "code",
   "execution_count": 30,
   "metadata": {},
   "outputs": [
    {
     "name": "stdout",
     "output_type": "stream",
     "text": [
      "0.846\n"
     ]
    }
   ],
   "source": [
    "print(clf.score(x_test, y_test))"
   ]
  },
  {
   "cell_type": "code",
   "execution_count": 111,
   "metadata": {},
   "outputs": [],
   "source": [
    "text = 'you are so bad and so ugly!'\n",
    "final_text = []\n",
    "temp = []\n",
    "for word in text.split():\n",
    "    if word in Vocab:\n",
    "        temp.append(word)\n",
    "    sentence = ' '.join(temp)\n",
    "final_text.append(sentence)"
   ]
  },
  {
   "cell_type": "code",
   "execution_count": 112,
   "metadata": {},
   "outputs": [
    {
     "name": "stdout",
     "output_type": "stream",
     "text": [
      "you are so bad and so ugly!\n",
      "[[0. 0. 0. ... 0. 0. 0.]]\n"
     ]
    }
   ],
   "source": [
    "print(text)\n",
    "\n",
    "final_text = tokenizer.texts_to_matrix(final_text, mode = 'count')\n",
    "print(final_text)"
   ]
  },
  {
   "cell_type": "code",
   "execution_count": 113,
   "metadata": {},
   "outputs": [
    {
     "data": {
      "text/plain": [
       "array([1])"
      ]
     },
     "execution_count": 113,
     "metadata": {},
     "output_type": "execute_result"
    }
   ],
   "source": [
    "svc_clf.predict(final_text)"
   ]
  },
  {
   "cell_type": "code",
   "execution_count": 52,
   "metadata": {},
   "outputs": [
    {
     "data": {
      "text/plain": [
       "['This', 'is', 'not', 'a', 'good', 'product']"
      ]
     },
     "execution_count": 52,
     "metadata": {},
     "output_type": "execute_result"
    }
   ],
   "source": [
    "text.split()"
   ]
  },
  {
   "cell_type": "code",
   "execution_count": null,
   "metadata": {},
   "outputs": [],
   "source": []
  }
 ],
 "metadata": {
  "kernelspec": {
   "display_name": "Python 3",
   "language": "python",
   "name": "python3"
  },
  "language_info": {
   "codemirror_mode": {
    "name": "ipython",
    "version": 3
   },
   "file_extension": ".py",
   "mimetype": "text/x-python",
   "name": "python",
   "nbconvert_exporter": "python",
   "pygments_lexer": "ipython3",
   "version": "3.7.6"
  }
 },
 "nbformat": 4,
 "nbformat_minor": 4
}
