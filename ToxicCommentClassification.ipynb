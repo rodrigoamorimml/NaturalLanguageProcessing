{
  "nbformat": 4,
  "nbformat_minor": 0,
  "metadata": {
    "colab": {
      "name": "ToxicCommentClassification.ipynb",
      "provenance": [],
      "collapsed_sections": [],
      "authorship_tag": "ABX9TyMyyUempWemG2RZSJHbRjYl",
      "include_colab_link": true
    },
    "kernelspec": {
      "name": "python3",
      "display_name": "Python 3"
    }
  },
  "cells": [
    {
      "cell_type": "markdown",
      "metadata": {
        "id": "view-in-github",
        "colab_type": "text"
      },
      "source": [
        "<a href=\"https://colab.research.google.com/github/rodrigoamorimml/NaturalLanguageProcessing/blob/master/ToxicCommentClassification.ipynb\" target=\"_parent\"><img src=\"https://colab.research.google.com/assets/colab-badge.svg\" alt=\"Open In Colab\"/></a>"
      ]
    },
    {
      "cell_type": "markdown",
      "metadata": {
        "id": "aeG80AWNxh8O",
        "colab_type": "text"
      },
      "source": [
        "In this notebook it'll be using  the Kaggle Dataset Jig-Saw Toxic Comment for classification task, where can be found at: [Toxic Comment Dataset](https://www.kaggle.com/c/jigsaw-toxic-comment-classification-challenge)\n",
        "\n",
        "This dataset contains  differents types of toxic comments \n",
        "and the task it's to classify this comments in six possibles categories. Since a  single comment can be placed in more than one category, then it'll be used 6 binary classification do complete this task.\n",
        "\n",
        "In addition it will be used different types of architeture of neural networks to compare their performance and accuracy in this dataset, like a feed foward neural network (MLP), ConvNet and a Reccurent Neural Network.\n",
        "\n",
        "Besides that, for the pre processing stage it will be used a Pre-trained Word Embedding Vector that can be download at: [Glove Embedding Vector](http://nlp.stanford.edu/data/glove.6B.zip)"
      ]
    },
    {
      "cell_type": "code",
      "metadata": {
        "id": "_MQHTbrHzGDb",
        "colab_type": "code",
        "colab": {}
      },
      "source": [
        ""
      ],
      "execution_count": null,
      "outputs": []
    }
  ]
}